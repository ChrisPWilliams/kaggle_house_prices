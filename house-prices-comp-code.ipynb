{
 "cells": [
  {
   "cell_type": "code",
   "execution_count": 1,
   "id": "5b04e6e0",
   "metadata": {
    "_cell_guid": "b1076dfc-b9ad-4769-8c92-a6c4dae69d19",
    "_uuid": "8f2839f25d086af736a60e9eeb907d3b93b6e0e5",
    "execution": {
     "iopub.execute_input": "2022-07-12T22:34:05.419682Z",
     "iopub.status.busy": "2022-07-12T22:34:05.419266Z",
     "iopub.status.idle": "2022-07-12T22:34:05.431910Z",
     "shell.execute_reply": "2022-07-12T22:34:05.431118Z"
    },
    "papermill": {
     "duration": 0.022132,
     "end_time": "2022-07-12T22:34:05.434374",
     "exception": false,
     "start_time": "2022-07-12T22:34:05.412242",
     "status": "completed"
    },
    "tags": []
   },
   "outputs": [
    {
     "name": "stdout",
     "output_type": "stream",
     "text": [
      "/kaggle/input/house-prices-advanced-regression-techniques/sample_submission.csv\n",
      "/kaggle/input/house-prices-advanced-regression-techniques/data_description.txt\n",
      "/kaggle/input/house-prices-advanced-regression-techniques/train.csv\n",
      "/kaggle/input/house-prices-advanced-regression-techniques/test.csv\n"
     ]
    }
   ],
   "source": [
    "# This Python 3 environment comes with many helpful analytics libraries installed\n",
    "# It is defined by the kaggle/python Docker image: https://github.com/kaggle/docker-python\n",
    "# For example, here's several helpful packages to load\n",
    "\n",
    "import numpy as np # linear algebra\n",
    "import pandas as pd # data processing, CSV file I/O (e.g. pd.read_csv)\n",
    "import matplotlib.pyplot as plt\n",
    "\n",
    "# Input data files are available in the read-only \"../input/\" directory\n",
    "# For example, running this (by clicking run or pressing Shift+Enter) will list all files under the input directory\n",
    "\n",
    "import os\n",
    "for dirname, _, filenames in os.walk('/kaggle/input'):\n",
    "    for filename in filenames:\n",
    "        print(os.path.join(dirname, filename))\n",
    "\n",
    "# You can write up to 20GB to the current directory (/kaggle/working/) that gets preserved as output when you create a version using \"Save & Run All\" \n",
    "# You can also write temporary files to /kaggle/temp/, but they won't be saved outside of the current session"
   ]
  },
  {
   "cell_type": "code",
   "execution_count": 2,
   "id": "7574a8d1",
   "metadata": {
    "execution": {
     "iopub.execute_input": "2022-07-12T22:34:05.444443Z",
     "iopub.status.busy": "2022-07-12T22:34:05.444058Z",
     "iopub.status.idle": "2022-07-12T22:34:14.135725Z",
     "shell.execute_reply": "2022-07-12T22:34:14.134000Z"
    },
    "papermill": {
     "duration": 8.699477,
     "end_time": "2022-07-12T22:34:14.138235",
     "exception": false,
     "start_time": "2022-07-12T22:34:05.438758",
     "status": "completed"
    },
    "tags": []
   },
   "outputs": [
    {
     "name": "stdout",
     "output_type": "stream",
     "text": [
      "[nan 'Ex' 'Fa' 'Gd']\n"
     ]
    }
   ],
   "source": [
    "import tensorflow as tf\n",
    "from tensorflow import keras\n",
    "\n",
    "house_data = pd.read_csv(\"/kaggle/input/house-prices-advanced-regression-techniques/train.csv\")\n",
    "train_labels = house_data[\"SalePrice\"].copy()\n",
    "train_data = house_data.copy()\n",
    "train_data.drop(columns=\"SalePrice\")\n",
    "\n",
    "print(house_data[\"PoolQC\"].unique())\n",
    "\n"
   ]
  },
  {
   "cell_type": "markdown",
   "id": "0b6495b3",
   "metadata": {
    "papermill": {
     "duration": 0.004004,
     "end_time": "2022-07-12T22:34:14.146611",
     "exception": false,
     "start_time": "2022-07-12T22:34:14.142607",
     "status": "completed"
    },
    "tags": []
   },
   "source": [
    "Columns contain mixture of categorical data and numerical data, these will require different preprocessing. We have:\n",
    "* Numerical data: This needs to be scaled between 0 and 1.\n",
    "* Categorical data (including the zoning code!): This needs to be one-hot encoded.\n",
    "* 'Quality' categories: This needs to be converted to an equal numeric range between 0 and 1.\n",
    "\n",
    "Missing values must also be managed:\n",
    "* For numerical columns, exclude all NA rows to find the mean, then replace NA with the mean wherever it appears\n",
    "* For categorical columns, NA will be included as a category\n",
    "* Neither the training data nor test data contains any nulls (but if they were there then they should be replaced with NA first, then subjected to the same processing.\n",
    "\n",
    "All these steps must be performed on the training data and validation data separately after splitting them! (wrap in function to take each) otherwise replacement with the mean of the whole dataset would lead to information leakage between train and validation sets."
   ]
  },
  {
   "cell_type": "code",
   "execution_count": 3,
   "id": "e849fa88",
   "metadata": {
    "execution": {
     "iopub.execute_input": "2022-07-12T22:34:14.156791Z",
     "iopub.status.busy": "2022-07-12T22:34:14.156189Z",
     "iopub.status.idle": "2022-07-12T22:34:14.168094Z",
     "shell.execute_reply": "2022-07-12T22:34:14.167242Z"
    },
    "papermill": {
     "duration": 0.019356,
     "end_time": "2022-07-12T22:34:14.170085",
     "exception": false,
     "start_time": "2022-07-12T22:34:14.150729",
     "status": "completed"
    },
    "tags": []
   },
   "outputs": [],
   "source": [
    "def quality_preprocess(data):\n",
    "    lotshapeencode = {\"Reg\":0, \"IR1\":1, \"IR2\":2, \"IR3\":3}\n",
    "    data[\"LotShape\"] = data[\"LotShape\"].replace(lotshapeencode)\n",
    "    landslopeencode = {\"Gtl\":0, \"Mod\":1, \"Sev\":2}\n",
    "    data[\"LandSlope\"] = data[\"LandSlope\"].replace(landslopeencode)\n",
    "    qualcondencode = {\"Ex\":5, \"Gd\":4, \"TA\":3, \"Fa\":2, \"Po\":1, \"NA\":0}\n",
    "    data[\"ExterQual\"] = data[\"ExterQual\"].replace(qualcondencode)\n",
    "    data[\"ExterCond\"] = data[\"ExterCond\"].replace(qualcondencode)\n",
    "    data[\"BsmtQual\"] = data[\"BsmtQual\"].replace(qualcondencode)\n",
    "    data[\"BsmtCond\"] = data[\"BsmtCond\"].replace(qualcondencode)\n",
    "    exposureencode = {\"Gd\":3, \"Av\":2, \"Mn\":1, \"No\":0}\n",
    "    data[\"BsmtExposure\"] = data[\"BsmtExposure\"].replace(exposureencode)\n",
    "    data[\"HeatingQC\"] = data[\"HeatingQC\"].replace(qualcondencode)\n",
    "    data[\"KitchenQual\"] = data[\"KitchenQual\"].replace(qualcondencode)\n",
    "    functionalencode = {\"Typ\":7, \"Min1\":6, \"Min2\":5, \"Mod\":4, \"Maj1\":3, \"Maj2\":2, \"Sev\":1, \"Sal\":0}\n",
    "    data[\"Functional\"] = data[\"Functional\"].replace(functionalencode)\n",
    "    data[\"FireplaceQu\"] = data[\"FireplaceQu\"].replace(qualcondencode)\n",
    "    finishencode = {\"Fin\":2, \"RFn\":1, \"Unf\":0}\n",
    "    data[\"GarageFinish\"] = data[\"GarageFinish\"].replace(finishencode)\n",
    "    data[\"GarageQual\"] = data[\"GarageQual\"].replace(qualcondencode)\n",
    "    data[\"GarageCond\"] = data[\"GarageCond\"].replace(qualcondencode)\n",
    "    poolencode = {\"Ex\":4, \"Gd\":3, \"TA\":2, \"Fa\":1, \"NA\":0}\n",
    "    data[\"PoolQC\"] = data[\"PoolQC\"].replace(poolencode)\n",
    "    fenceencode = {\"GdPrv\":4, \"MnPrv\":3, \"GdWo\":2, \"MnWw\":1, \"NA\":0}\n",
    "    data[\"Fence\"] = data[\"Fence\"].replace(fenceencode)\n",
    "    data[\"DateSold\"] = data[\"YrSold\"] + (data[\"MoSold\"] / 12)\n",
    "    data.drop(columns=[\"YrSold\", \"MoSold\"])\n",
    "    return data\n"
   ]
  },
  {
   "cell_type": "markdown",
   "id": "0d26108c",
   "metadata": {
    "papermill": {
     "duration": 0.003849,
     "end_time": "2022-07-12T22:34:14.178417",
     "exception": false,
     "start_time": "2022-07-12T22:34:14.174568",
     "status": "completed"
    },
    "tags": []
   },
   "source": [
    "Define which columns should be categorical, and which should be numerical"
   ]
  },
  {
   "cell_type": "code",
   "execution_count": 4,
   "id": "ed03fcfd",
   "metadata": {
    "execution": {
     "iopub.execute_input": "2022-07-12T22:34:14.188609Z",
     "iopub.status.busy": "2022-07-12T22:34:14.187936Z",
     "iopub.status.idle": "2022-07-12T22:34:14.196730Z",
     "shell.execute_reply": "2022-07-12T22:34:14.195452Z"
    },
    "papermill": {
     "duration": 0.016863,
     "end_time": "2022-07-12T22:34:14.199357",
     "exception": false,
     "start_time": "2022-07-12T22:34:14.182494",
     "status": "completed"
    },
    "tags": []
   },
   "outputs": [],
   "source": [
    "categorical_features = [\n",
    "    \"MSSubClass\",\n",
    "    \"MSZoning\",\n",
    "    \"Street\",\n",
    "    \"Alley\",\n",
    "    \"LandContour\",\n",
    "    \"Utilities\",\n",
    "    \"LotConfig\",\n",
    "    \"Neighborhood\",\n",
    "    \"Condition1\",\n",
    "    \"Condition2\",\n",
    "    \"BldgType\",\n",
    "    \"HouseStyle\",\n",
    "    \"RoofStyle\",\n",
    "    \"RoofMatl\",\n",
    "    \"Exterior1st\",\n",
    "    \"Exterior2nd\",\n",
    "    \"MasVnrType\",\n",
    "    \"Foundation\",\n",
    "    \"BsmtFinType1\",\n",
    "    \"BsmtFinType2\",\n",
    "    \"Heating\",\n",
    "    \"CentralAir\",\n",
    "    \"Electrical\",\n",
    "    \"GarageType\",\n",
    "    \"PavedDrive\",\n",
    "    \"MiscFeature\",\n",
    "    \"SaleType\",\n",
    "    \"SaleCondition\"\n",
    "]\n",
    "\n",
    "numerical_features = [\n",
    "    \"LotFrontage\",\n",
    "    \"LotArea\",\n",
    "    \"LotShape\",\n",
    "    \"LandSlope\",\n",
    "    \"OverallQual\",\n",
    "    \"OverallCond\",\n",
    "    \"YearBuilt\",\n",
    "    \"YearRemodAdd\",\n",
    "    \"MasVnrArea\",\n",
    "    \"ExterQual\",\n",
    "    \"ExterCond\",\n",
    "    \"BsmtQual\",\n",
    "    \"BsmtCond\",\n",
    "    \"BsmtExposure\",\n",
    "    \"BsmtFinSF1\",\n",
    "    \"BsmtFinSF2\",\n",
    "    \"BsmtUnfSF\",\n",
    "    \"TotalBsmtSF\",\n",
    "    \"HeatingQC\",\n",
    "    \"1stFlrSF\",\n",
    "    \"2ndFlrSF\",\n",
    "    \"LowQualFinSF\",\n",
    "    \"GrLivArea\",\n",
    "    \"BsmtFullBath\",\n",
    "    \"BsmtHalfBath\",\n",
    "    \"FullBath\",\n",
    "    \"HalfBath\",\n",
    "    \"BedroomAbvGr\",\n",
    "    \"KitchenAbvGr\",\n",
    "    \"KitchenQual\",\n",
    "    \"TotRmsAbvGrd\",\n",
    "    \"Functional\",\n",
    "    \"Fireplaces\",\n",
    "    \"FireplaceQu\",\n",
    "    \"GarageYrBlt\",\n",
    "    \"GarageFinish\",\n",
    "    \"GarageCars\",\n",
    "    \"GarageArea\",\n",
    "    \"GarageQual\",\n",
    "    \"GarageCond\",\n",
    "    \"WoodDeckSF\",\n",
    "    \"OpenPorchSF\",\n",
    "    \"EnclosedPorch\",\n",
    "    \"3SsnPorch\",\n",
    "    \"ScreenPorch\",\n",
    "    \"PoolArea\",\n",
    "    \"PoolQC\",\n",
    "    \"Fence\",\n",
    "    \"MiscVal\",\n",
    "    \"DateSold\"\n",
    "]\n",
    "\n",
    "assert len(categorical_features) + len(numerical_features) == 78"
   ]
  },
  {
   "cell_type": "markdown",
   "id": "a24af35e",
   "metadata": {
    "papermill": {
     "duration": 0.004018,
     "end_time": "2022-07-12T22:34:14.207692",
     "exception": false,
     "start_time": "2022-07-12T22:34:14.203674",
     "status": "completed"
    },
    "tags": []
   },
   "source": [
    "Write preprocess instructions for categorical features, and loop for numerical features"
   ]
  },
  {
   "cell_type": "code",
   "execution_count": 5,
   "id": "c7738911",
   "metadata": {
    "execution": {
     "iopub.execute_input": "2022-07-12T22:34:14.218044Z",
     "iopub.status.busy": "2022-07-12T22:34:14.217645Z",
     "iopub.status.idle": "2022-07-12T22:34:14.241212Z",
     "shell.execute_reply": "2022-07-12T22:34:14.240008Z"
    },
    "papermill": {
     "duration": 0.031612,
     "end_time": "2022-07-12T22:34:14.243545",
     "exception": false,
     "start_time": "2022-07-12T22:34:14.211933",
     "status": "completed"
    },
    "tags": []
   },
   "outputs": [],
   "source": [
    "def one_hot_feature(data, feature, featlist):\n",
    "    if feature in data:\n",
    "        one_hot = pd.get_dummies(data[feature])\n",
    "        for feat in featlist:\n",
    "            if feat not in one_hot.keys():\n",
    "                one_hot[feat] = 0\n",
    "        newnames = []\n",
    "        for feat in featlist:\n",
    "            newname = feature + '.' + feat\n",
    "            newnames.append(newname)\n",
    "        rename_dict = dict(zip(featlist, newnames))\n",
    "        one_hot = one_hot.rename(columns = rename_dict)\n",
    "        data = data.drop(columns = feature)\n",
    "        data = data.join(one_hot)\n",
    "    return data\n",
    "\n",
    "def categorical_preprocess(data):\n",
    "    subclasslist = [\"20\",\"30\",\"40\",\"45\",\"50\",\"60\",\"70\",\"75\",\"80\",\"85\",\"90\",\"120\",\"150\",\"160\",\"180\",\"190\"]\n",
    "    data = one_hot_feature(data, \"MSSubClass\", subclasslist)\n",
    "    zoninglist = ['A', 'C (all)','FV','I','RH','RL','RP','RM']\n",
    "    data = one_hot_feature(data, \"MSZoning\", zoninglist)\n",
    "    streetlist = ['Grvl','Pave']\n",
    "    data = one_hot_feature(data, \"Street\", streetlist)\n",
    "    alleylist = ['Grvl','Pave','NA']\n",
    "    data = one_hot_feature(data, \"Alley\", alleylist)\n",
    "    contourlist = ['Lvl','Bnk','HLS','Low']\n",
    "    data = one_hot_feature(data, \"LandContour\", contourlist)\n",
    "    utilitieslist = ['AllPub', 'NoSewr', 'NoSeWa', 'ELO']\n",
    "    data = one_hot_feature(data, \"Utilities\", utilitieslist)\n",
    "    lotconfiglist = ['Inside','Corner','CulDSac','FR2','FR3']\n",
    "    data = one_hot_feature(data, \"LotConfig\", lotconfiglist)\n",
    "    neighborhoodlist = [\n",
    "        'Blmngtn',\n",
    "        'Blueste',\n",
    "        'BrDale',\n",
    "        'BrkSide',\n",
    "        'ClearCr',\n",
    "        'CollgCr',\n",
    "        'Crawfor',\n",
    "        'Edwards',\n",
    "        'Gilbert',\n",
    "        'IDOTRR',\n",
    "        'MeadowV',\n",
    "        'Mitchel',\n",
    "        'Names',\n",
    "        'NoRidge',\n",
    "        'NPkVill',\n",
    "        'NridgHt',\n",
    "        'NWAmes',\n",
    "        'OldTown',\n",
    "        'SWISU',\n",
    "        'Sawyer',\n",
    "        'SawyerW',\n",
    "        'Somerst',\n",
    "        'StoneBr',\n",
    "        'Timber',\n",
    "        'Veenker'\n",
    "    ]\n",
    "    data = one_hot_feature(data, \"Neighborhood\", neighborhoodlist)\n",
    "    conditionlist = ['Artery','Feedr','Norm','RRNn','RRAn','PosN','PosA','RRNe','RRAe']\n",
    "    data = one_hot_feature(data, \"Condition1\", conditionlist)\n",
    "    data = one_hot_feature(data, \"Condition2\", conditionlist)\n",
    "    bldgtypelist = ['1Fam','2FmCon','Duplx','TwnhsE','TwnhsI']\n",
    "    data = one_hot_feature(data, \"BldgType\", bldgtypelist)\n",
    "    housestylelist = ['1Story','1.5Fin','1.5Unf','2Story','2.5Fin','2.5Unf','SFoyer','SLvl']\n",
    "    data = one_hot_feature(data, \"HouseStyle\", housestylelist)\n",
    "    roofstylelist = ['Flat','Gable','Gambrel','Hip','Mansard','Shed']\n",
    "    data = one_hot_feature(data, \"RoofStyle\", roofstylelist)\n",
    "    roofmatllist = ['ClyTile','CompShg','Membran','Metal','Roll','Tar&Grv','WdShake','WdShngl']\n",
    "    data = one_hot_feature(data, \"RoofMatl\", roofmatllist)\n",
    "    exteriorlist = [\n",
    "        'AsbShng',\n",
    "        'AsphShn',\n",
    "        'BrkFace',\n",
    "        'BrkComm',\n",
    "        'CBlock',\n",
    "        'CemntBd',\n",
    "        'HdBoard',\n",
    "        'ImStucc',\n",
    "        'MetalSd',\n",
    "        'Other',\n",
    "        'Plywood',\n",
    "        'PreCast',\n",
    "        'Stone',\n",
    "        'Stucco',\n",
    "        'VinylSd',\n",
    "        'Wd Sdng',\n",
    "        'WdShing'\n",
    "    ]\n",
    "    data = one_hot_feature(data, \"Exterior1st\", exteriorlist)\n",
    "    data = one_hot_feature(data, \"Exterior2nd\", exteriorlist)\n",
    "    masvnrtypelist = ['BrkCmn','BrkFace','CBlock','None','Stone']\n",
    "    data = one_hot_feature(data, \"MasVnrType\", masvnrtypelist)\n",
    "    foundationlist = [\"BrkTil\",'Cblock','PConc','Slab','Stone','Wood']\n",
    "    data = one_hot_feature(data, \"Foundation\", foundationlist)\n",
    "    bsmtfinlist = ['GLQ','ALQ','BLQ','Rec','LwQ','Unf','NA']\n",
    "    data = one_hot_feature(data, \"BsmtFinType1\", bsmtfinlist)\n",
    "    data = one_hot_feature(data, \"BsmtFinType2\", bsmtfinlist)\n",
    "    heatinglist = ['Floor','GasA','GasW','Grav','OthW','Wall']\n",
    "    data = one_hot_feature(data, \"Heating\", heatinglist)\n",
    "    centralairlist = ['N','Y']\n",
    "    data = one_hot_feature(data, \"CentralAir\", centralairlist)\n",
    "    electricallist = ['SBrkr','FuseA','FuseF','FuseP','Mix']\n",
    "    data = one_hot_feature(data, \"Electrical\", electricallist)\n",
    "    garagelist = ['2Types','Attchd','Basement','BuiltIn','CarPort','Detchd','NA']\n",
    "    data = one_hot_feature(data, \"GarageType\", garagelist)\n",
    "    paveddrivelist = ['Y','N','P']\n",
    "    data = one_hot_feature(data, \"PavedDrive\", paveddrivelist)\n",
    "    misclist = ['Elev','Gar2','Othr','Shed','TenC','NA']\n",
    "    data = one_hot_feature(data, \"MiscFeature\", misclist)\n",
    "    saletypelist = ['WD','CWD','VWD','New','COD','Con','ConLw','ConLI','ConLD','Oth']\n",
    "    data = one_hot_feature(data, \"SaleType\", saletypelist)\n",
    "    saleconditionlist = ['Normal','Abnorml','AdjLand','Alloca','Family','Partial']\n",
    "    data = one_hot_feature(data, \"SaleCondition\", saleconditionlist)\n",
    "    return data\n",
    "\n",
    "def numerical_preprocess(data):\n",
    "    for feature in numerical_features:\n",
    "        data[feature] = data[feature].replace({\"NA\":pd.NA})\n",
    "        mean = data[feature].mean()\n",
    "        data[feature] = data[feature].fillna(mean)\n",
    "        stddev = data[feature].std()\n",
    "        data[feature] = data[feature].sub(mean)\n",
    "        data[feature] = data[feature].div(stddev)\n",
    "    return data\n",
    "\n",
    "\n"
   ]
  },
  {
   "cell_type": "markdown",
   "id": "46f0d42e",
   "metadata": {
    "papermill": {
     "duration": 0.003883,
     "end_time": "2022-07-12T22:34:14.251849",
     "exception": false,
     "start_time": "2022-07-12T22:34:14.247966",
     "status": "completed"
    },
    "tags": []
   },
   "source": [
    "Features must be tested for relevance: numerical data must be tested by pearson coefficient (pandas df.corr(method='pearson')), ordinal categorical data (which will be numbers) tested by spearman's rank coefficient (pandas df.corr(method='spearman'))\n",
    "\n",
    "non-ordered categorical data will be tested by stdev of means / mean of stdevs (unless i can find a better clustering metric on the internet)\n",
    "if that doesn't work, then after one-hot encoding i will just find the stddev of the sales inside the category and divide the stddev of the whole set by that to drop individual one-hot encodes"
   ]
  },
  {
   "cell_type": "code",
   "execution_count": 6,
   "id": "cdcb47b5",
   "metadata": {
    "execution": {
     "iopub.execute_input": "2022-07-12T22:34:14.262228Z",
     "iopub.status.busy": "2022-07-12T22:34:14.261825Z",
     "iopub.status.idle": "2022-07-12T22:34:15.266563Z",
     "shell.execute_reply": "2022-07-12T22:34:15.265340Z"
    },
    "papermill": {
     "duration": 1.012854,
     "end_time": "2022-07-12T22:34:15.268971",
     "exception": false,
     "start_time": "2022-07-12T22:34:14.256117",
     "status": "completed"
    },
    "tags": []
   },
   "outputs": [
    {
     "name": "stdout",
     "output_type": "stream",
     "text": [
      "{'MSSubClass': 0.7994164831127109, 'MSZoning': 1.1059172910134838, 'Street': 0.4971956358385758, 'Alley': 0.8850827431188343, 'LandContour': 0.47770871054041214, 'Utilities': 0.3866580371908795, 'LotConfig': 0.2686190257318255, 'Neighborhood': 1.3737624759968214, 'Condition1': 0.6308830477234003, 'Condition2': 1.357046071237996, 'BldgType': 0.5699891299163015, 'HouseStyle': 0.6069081308018677, 'RoofStyle': 0.4191103499962833, 'RoofMatl': 0.8260418359134514, 'Exterior1st': 0.897770254066562, 'Exterior2nd': 0.7316296202605571, 'MasVnrType': 0.7579155258731782, 'Foundation': 0.6921000173578524, 'BsmtFinType1': 0.5594535787449639, 'BsmtFinType2': 0.3138327054012842, 'Heating': 1.2030003352835101, 'CentralAir': 0.9578612365924539, 'Electrical': 0.9715912191181111, 'GarageType': 0.9085874411108602, 'PavedDrive': 0.7093464855258348, 'MiscFeature': 1.4438233975878916, 'SaleType': 0.7553097749650816, 'SaleCondition': 0.8134777636023034}\n",
      "{'LotFrontage': 0.3349008515405508, 'LotArea': 0.4564605833912115, 'LotShape': 0.3210553314019312, 'LandSlope': 0.05031026015605547, 'OverallQual': 0.8098285862017292, 'OverallCond': 0.12932494660061317, 'YearBuilt': 0.6526815462850586, 'YearRemodAdd': 0.5711589780582343, 'MasVnrArea': 0.4752413167736678, 'ExterQual': 0.6840137963904298, 'ExterCond': 0.01168188943505925, 'BsmtQual': 0.6492636873622873, 'BsmtCond': 0.07411842870954596, 'BsmtExposure': 0.27239781995188234, 'BsmtFinSF1': 0.3864198062421533, 'BsmtFinSF2': 0.01137812145021516, 'BsmtUnfSF': 0.21447910554696903, 'TotalBsmtSF': 0.6135805515591954, 'HeatingQC': 0.4913919065603799, '1stFlrSF': 0.6058521846919147, '2ndFlrSF': 0.3193338028320676, 'LowQualFinSF': 0.025606130000679555, 'GrLivArea': 0.7086244776126523, 'BsmtFullBath': 0.22512486719612368, 'BsmtHalfBath': 0.012188876310787316, 'FullBath': 0.6359570562496957, 'HalfBath': 0.34300754918568294, 'BedroomAbvGr': 0.23490671789027862, 'KitchenAbvGr': 0.1648257549850205, 'KitchenQual': 0.6728485475386915, 'TotRmsAbvGrd': 0.532585935116993, 'Functional': 0.13548919114874458, 'Fireplaces': 0.5192474498367013, 'FireplaceQu': 0.1301091509148396, 'GarageYrBlt': 0.565392375069124, 'GarageFinish': 0.578456801097036, 'GarageCars': 0.6907109670497434, 'GarageArea': 0.6234314389183616, 'GarageQual': 0.3475937348551226, 'GarageCond': 0.3371275039798786, 'WoodDeckSF': 0.3244134445681304, 'OpenPorchSF': 0.31585622711605515, 'EnclosedPorch': 0.1285779579259569, '3SsnPorch': 0.04458366533574834, 'ScreenPorch': 0.11144657114291148, 'PoolArea': 0.09240354949187304, 'PoolQC': 0.07451253784866345, 'Fence': 0.05665867546532466, 'MiscVal': 0.0627270024962966, 'DateSold': 0.021266531257252447}\n"
     ]
    }
   ],
   "source": [
    "\n",
    "house_data = quality_preprocess(house_data)\n",
    "house_data = numerical_preprocess(house_data)\n",
    "\n",
    "\n",
    "catcoeffs = {}\n",
    "for feature in categorical_features:\n",
    "    categories = house_data[feature].unique()\n",
    "    catlist = categories.tolist()\n",
    "    catmeans = []\n",
    "    catdevs = []\n",
    "    for category in catlist:\n",
    "        cluster_data = house_data[[feature, \"SalePrice\"]].loc[house_data[feature] == category]\n",
    "        catmeans.append(cluster_data[\"SalePrice\"].mean())\n",
    "        catdevs.append(cluster_data[\"SalePrice\"].std())\n",
    "    devofmeans = pd.DataFrame(catmeans).std()\n",
    "    meanofdevs = pd.DataFrame(catdevs).mean()\n",
    "    catcoeffs[feature] = devofmeans[0] / meanofdevs[0]\n",
    "\n",
    "print(catcoeffs)\n",
    "\n",
    "ordinal_features = [\n",
    "    \"LotArea\",\n",
    "    \"LotShape\",\n",
    "    \"LandSlope\",\n",
    "    \"OverallQual\",\n",
    "    \"OverallCond\",\n",
    "    \"YearBuilt\",\n",
    "    \"YearRemodAdd\",\n",
    "    \"ExterQual\",\n",
    "    \"ExterCond\",\n",
    "    \"BsmtQual\",\n",
    "    \"BsmtCond\",\n",
    "    \"BsmtExposure\",\n",
    "    \"HeatingQC\",\n",
    "    \"BsmtFullBath\",\n",
    "    \"BsmtHalfBath\",\n",
    "    \"FullBath\",\n",
    "    \"HalfBath\",\n",
    "    \"BedroomAbvGr\",\n",
    "    \"KitchenAbvGr\",\n",
    "    \"KitchenQual\",\n",
    "    \"TotRmsAbvGrd\",\n",
    "    \"Functional\",\n",
    "    \"Fireplaces\",\n",
    "    \"FireplaceQu\",\n",
    "    \"GarageYrBlt\",\n",
    "    \"GarageFinish\",\n",
    "    \"GarageCars\",\n",
    "    \"GarageQual\",\n",
    "    \"GarageCond\",\n",
    "    \"Fence\",\n",
    "    \"MiscVal\"\n",
    "]\n",
    "\n",
    "numcoeffs = {}\n",
    "for feature in numerical_features:\n",
    "    if feature in ordinal_features:\n",
    "        numcoeffs[feature] = abs(house_data[feature].corr(house_data[\"SalePrice\"], method=\"spearman\"))\n",
    "    else:\n",
    "        numcoeffs[feature] = abs(house_data[feature].corr(house_data[\"SalePrice\"], method=\"pearson\"))\n",
    "print(numcoeffs)"
   ]
  },
  {
   "cell_type": "markdown",
   "id": "46295d93",
   "metadata": {
    "papermill": {
     "duration": 0.004027,
     "end_time": "2022-07-12T22:34:15.277453",
     "exception": false,
     "start_time": "2022-07-12T22:34:15.273426",
     "status": "completed"
    },
    "tags": []
   },
   "source": [
    "Remove features with terrible correlation if needed (includes year of sale, which turns out to be very poorly correlated(!))\n",
    "\n",
    "PoolQC destabilises the model, not sure why"
   ]
  },
  {
   "cell_type": "code",
   "execution_count": 7,
   "id": "211311d9",
   "metadata": {
    "execution": {
     "iopub.execute_input": "2022-07-12T22:34:15.287654Z",
     "iopub.status.busy": "2022-07-12T22:34:15.287282Z",
     "iopub.status.idle": "2022-07-12T22:34:15.294409Z",
     "shell.execute_reply": "2022-07-12T22:34:15.293321Z"
    },
    "papermill": {
     "duration": 0.014948,
     "end_time": "2022-07-12T22:34:15.296678",
     "exception": false,
     "start_time": "2022-07-12T22:34:15.281730",
     "status": "completed"
    },
    "tags": []
   },
   "outputs": [
    {
     "name": "stdout",
     "output_type": "stream",
     "text": [
      "['Id', 'PoolQC']\n"
     ]
    }
   ],
   "source": [
    "CATTHRESHOLD = 0\n",
    "NUMTHRESHOLD = 0\n",
    "\n",
    "trash_feats = [\"Id\", \"PoolQC\"]\n",
    "for feature in categorical_features:\n",
    "    if catcoeffs[feature] < CATTHRESHOLD:\n",
    "        trash_feats.append(feature)\n",
    "for feature in numerical_features:\n",
    "    if numcoeffs[feature] < NUMTHRESHOLD:\n",
    "        trash_feats.append(feature)\n",
    "\n",
    "print(trash_feats)\n"
   ]
  },
  {
   "cell_type": "markdown",
   "id": "6db71eb8",
   "metadata": {
    "papermill": {
     "duration": 0.00401,
     "end_time": "2022-07-12T22:34:15.305144",
     "exception": false,
     "start_time": "2022-07-12T22:34:15.301134",
     "status": "completed"
    },
    "tags": []
   },
   "source": [
    "Prepare the model"
   ]
  },
  {
   "cell_type": "code",
   "execution_count": 8,
   "id": "6e4b6e14",
   "metadata": {
    "execution": {
     "iopub.execute_input": "2022-07-12T22:34:15.315500Z",
     "iopub.status.busy": "2022-07-12T22:34:15.314817Z",
     "iopub.status.idle": "2022-07-12T22:34:15.321375Z",
     "shell.execute_reply": "2022-07-12T22:34:15.320380Z"
    },
    "papermill": {
     "duration": 0.013953,
     "end_time": "2022-07-12T22:34:15.323305",
     "exception": false,
     "start_time": "2022-07-12T22:34:15.309352",
     "status": "completed"
    },
    "tags": []
   },
   "outputs": [],
   "source": [
    "LEARNING_RATE = 0.001\n",
    "\n",
    "def build_model():\n",
    "    model = keras.Sequential([\n",
    "        keras.layers.Dense(64, activation='relu'),\n",
    "        keras.layers.Dense(64, activation='relu'),\n",
    "        keras.layers.Dense(1)\n",
    "    ])\n",
    "    opt = keras.optimizers.Adam(learning_rate=LEARNING_RATE)\n",
    "    model.compile(optimizer=opt, loss=\"mse\", metrics=[\"mae\"])\n",
    "    return model\n"
   ]
  },
  {
   "cell_type": "markdown",
   "id": "a635593a",
   "metadata": {
    "papermill": {
     "duration": 0.004181,
     "end_time": "2022-07-12T22:34:15.331851",
     "exception": false,
     "start_time": "2022-07-12T22:34:15.327670",
     "status": "completed"
    },
    "tags": []
   },
   "source": [
    "Set aside validation set and run the model. Initially will start with basic validation, will implement k-fold later"
   ]
  },
  {
   "cell_type": "code",
   "execution_count": 9,
   "id": "2f845a8e",
   "metadata": {
    "execution": {
     "iopub.execute_input": "2022-07-12T22:34:15.342448Z",
     "iopub.status.busy": "2022-07-12T22:34:15.341418Z",
     "iopub.status.idle": "2022-07-12T22:34:16.240134Z",
     "shell.execute_reply": "2022-07-12T22:34:16.239031Z"
    },
    "papermill": {
     "duration": 0.906448,
     "end_time": "2022-07-12T22:34:16.242522",
     "exception": false,
     "start_time": "2022-07-12T22:34:15.336074",
     "status": "completed"
    },
    "tags": []
   },
   "outputs": [],
   "source": [
    "def full_preprocess(data):\n",
    "    data = quality_preprocess(data)\n",
    "    data = numerical_preprocess(data)\n",
    "    data = data.drop(columns = trash_feats)\n",
    "    data = categorical_preprocess(data)\n",
    "    data = data.astype(\"float64\")\n",
    "    return data\n",
    "\n",
    "val_data = train_data.iloc[1:200]\n",
    "val_labels = train_labels.iloc[1:200]\n",
    "partial_train_data = train_data.iloc[200:train_data[\"Id\"].size]\n",
    "partial_train_labels = train_labels.iloc[200:train_labels.size]\n",
    "val_data = full_preprocess(val_data.copy())\n",
    "partial_train_data = full_preprocess(partial_train_data.copy())\n",
    "\n",
    "assert pd.merge(partial_train_data, val_data, how='inner').shape[0] == 0     # sanity check to ensure no samples shared between validation set and training set\n",
    "\n"
   ]
  },
  {
   "cell_type": "code",
   "execution_count": 10,
   "id": "5b03ec4b",
   "metadata": {
    "execution": {
     "iopub.execute_input": "2022-07-12T22:34:16.253053Z",
     "iopub.status.busy": "2022-07-12T22:34:16.252674Z",
     "iopub.status.idle": "2022-07-12T22:34:20.270956Z",
     "shell.execute_reply": "2022-07-12T22:34:20.269623Z"
    },
    "papermill": {
     "duration": 4.026721,
     "end_time": "2022-07-12T22:34:20.273679",
     "exception": false,
     "start_time": "2022-07-12T22:34:16.246958",
     "status": "completed"
    },
    "tags": []
   },
   "outputs": [
    {
     "name": "stderr",
     "output_type": "stream",
     "text": [
      "2022-07-12 22:34:17.439300: I tensorflow/core/common_runtime/process_util.cc:146] Creating new thread pool with default inter op setting: 2. Tune using inter_op_parallelism_threads for best performance.\n",
      "2022-07-12 22:34:17.584232: I tensorflow/compiler/mlir/mlir_graph_optimization_pass.cc:185] None of the MLIR Optimization Passes are enabled (registered 2)\n"
     ]
    },
    {
     "name": "stdout",
     "output_type": "stream",
     "text": [
      "Epoch 1/30\n",
      "3/3 [==============================] - 1s 113ms/step - loss: 37243154432.0000 - mae: 176497.7969 - val_loss: 35561271296.0000 - val_mae: 173829.5469\n",
      "Epoch 2/30\n",
      "3/3 [==============================] - 0s 21ms/step - loss: 34942291968.0000 - mae: 170990.8750 - val_loss: 33401333760.0000 - val_mae: 168466.9375\n",
      "Epoch 3/30\n",
      "3/3 [==============================] - 0s 22ms/step - loss: 32810702848.0000 - mae: 165653.0000 - val_loss: 31268765696.0000 - val_mae: 162998.7031\n",
      "Epoch 4/30\n",
      "3/3 [==============================] - 0s 21ms/step - loss: 30702161920.0000 - mae: 160213.7344 - val_loss: 29225439232.0000 - val_mae: 157583.6250\n",
      "Epoch 5/30\n",
      "3/3 [==============================] - 0s 20ms/step - loss: 28663267328.0000 - mae: 154859.3594 - val_loss: 27252086784.0000 - val_mae: 152165.6406\n",
      "Epoch 6/30\n",
      "3/3 [==============================] - 0s 21ms/step - loss: 26702602240.0000 - mae: 149423.2812 - val_loss: 25219819520.0000 - val_mae: 146379.1562\n",
      "Epoch 7/30\n",
      "3/3 [==============================] - 0s 21ms/step - loss: 24653500416.0000 - mae: 143604.7188 - val_loss: 23181256704.0000 - val_mae: 140339.3438\n",
      "Epoch 8/30\n",
      "3/3 [==============================] - 0s 21ms/step - loss: 22637142016.0000 - mae: 137550.9844 - val_loss: 21101017088.0000 - val_mae: 133890.0781\n",
      "Epoch 9/30\n",
      "3/3 [==============================] - 0s 20ms/step - loss: 20504035328.0000 - mae: 130983.7812 - val_loss: 18971707392.0000 - val_mae: 126950.5625\n",
      "Epoch 10/30\n",
      "3/3 [==============================] - 0s 21ms/step - loss: 18403371008.0000 - mae: 124007.4141 - val_loss: 16810894336.0000 - val_mae: 119497.5703\n",
      "Epoch 11/30\n",
      "3/3 [==============================] - 0s 20ms/step - loss: 16244111360.0000 - mae: 116499.1328 - val_loss: 14666694656.0000 - val_mae: 111612.1719\n",
      "Epoch 12/30\n",
      "3/3 [==============================] - 0s 21ms/step - loss: 14122157056.0000 - mae: 108557.5781 - val_loss: 12539038720.0000 - val_mae: 103190.6953\n",
      "Epoch 13/30\n",
      "3/3 [==============================] - 0s 21ms/step - loss: 11981848576.0000 - mae: 100036.3984 - val_loss: 10451331072.0000 - val_mae: 94197.0469\n",
      "Epoch 14/30\n",
      "3/3 [==============================] - 0s 21ms/step - loss: 9907881984.0000 - mae: 90975.7578 - val_loss: 8450461696.0000 - val_mae: 84689.8516\n",
      "Epoch 15/30\n",
      "3/3 [==============================] - 0s 21ms/step - loss: 7955219968.0000 - mae: 81451.8906 - val_loss: 6595625472.0000 - val_mae: 74807.3828\n",
      "Epoch 16/30\n",
      "3/3 [==============================] - 0s 21ms/step - loss: 6151951360.0000 - mae: 71577.1562 - val_loss: 4922794496.0000 - val_mae: 64611.9062\n",
      "Epoch 17/30\n",
      "3/3 [==============================] - 0s 21ms/step - loss: 4542824960.0000 - mae: 61420.7383 - val_loss: 3464461824.0000 - val_mae: 54183.3984\n",
      "Epoch 18/30\n",
      "3/3 [==============================] - 0s 22ms/step - loss: 3117981184.0000 - mae: 50973.0586 - val_loss: 2260467712.0000 - val_mae: 43743.0664\n",
      "Epoch 19/30\n",
      "3/3 [==============================] - 0s 20ms/step - loss: 1997446784.0000 - mae: 40665.8711 - val_loss: 1320335744.0000 - val_mae: 33401.4570\n",
      "Epoch 20/30\n",
      "3/3 [==============================] - 0s 20ms/step - loss: 1130366208.0000 - mae: 30549.8008 - val_loss: 656024448.0000 - val_mae: 23506.4570\n",
      "Epoch 21/30\n",
      "3/3 [==============================] - 0s 21ms/step - loss: 528970272.0000 - mae: 20869.0645 - val_loss: 247737840.0000 - val_mae: 14395.1201\n",
      "Epoch 22/30\n",
      "3/3 [==============================] - 0s 21ms/step - loss: 185558064.0000 - mae: 12132.8711 - val_loss: 49308152.0000 - val_mae: 6347.2969\n",
      "Epoch 23/30\n",
      "3/3 [==============================] - 0s 21ms/step - loss: 28984940.0000 - mae: 4481.0610 - val_loss: 144166.4219 - val_mae: 346.3674\n",
      "Epoch 24/30\n",
      "3/3 [==============================] - 0s 20ms/step - loss: 5293836.0000 - mae: 1757.1941 - val_loss: 32265708.0000 - val_mae: 5357.9478\n",
      "Epoch 25/30\n",
      "3/3 [==============================] - 0s 21ms/step - loss: 46911132.0000 - mae: 6315.3418 - val_loss: 86928720.0000 - val_mae: 8723.0586\n",
      "Epoch 26/30\n",
      "3/3 [==============================] - 0s 20ms/step - loss: 98637424.0000 - mae: 9210.8691 - val_loss: 125710256.0000 - val_mae: 10466.5020\n",
      "Epoch 27/30\n",
      "3/3 [==============================] - 0s 20ms/step - loss: 129745648.0000 - mae: 10559.5078 - val_loss: 134320688.0000 - val_mae: 10815.0449\n",
      "Epoch 28/30\n",
      "3/3 [==============================] - 0s 21ms/step - loss: 130839208.0000 - mae: 10603.3271 - val_loss: 116520960.0000 - val_mae: 10080.9209\n",
      "Epoch 29/30\n",
      "3/3 [==============================] - 0s 22ms/step - loss: 108299648.0000 - mae: 9663.9805 - val_loss: 84649384.0000 - val_mae: 8609.2510\n",
      "Epoch 30/30\n",
      "3/3 [==============================] - 0s 20ms/step - loss: 75506832.0000 - mae: 8072.4263 - val_loss: 51155476.0000 - val_mae: 6717.7217\n",
      "{'loss': [37243154432.0, 34942291968.0, 32810702848.0, 30702161920.0, 28663267328.0, 26702602240.0, 24653500416.0, 22637142016.0, 20504035328.0, 18403371008.0, 16244111360.0, 14122157056.0, 11981848576.0, 9907881984.0, 7955219968.0, 6151951360.0, 4542824960.0, 3117981184.0, 1997446784.0, 1130366208.0, 528970272.0, 185558064.0, 28984940.0, 5293836.0, 46911132.0, 98637424.0, 129745648.0, 130839208.0, 108299648.0, 75506832.0], 'mae': [176497.796875, 170990.875, 165653.0, 160213.734375, 154859.359375, 149423.28125, 143604.71875, 137550.984375, 130983.78125, 124007.4140625, 116499.1328125, 108557.578125, 100036.3984375, 90975.7578125, 81451.890625, 71577.15625, 61420.73828125, 50973.05859375, 40665.87109375, 30549.80078125, 20869.064453125, 12132.87109375, 4481.06103515625, 1757.194091796875, 6315.341796875, 9210.869140625, 10559.5078125, 10603.3271484375, 9663.98046875, 8072.42626953125], 'val_loss': [35561271296.0, 33401333760.0, 31268765696.0, 29225439232.0, 27252086784.0, 25219819520.0, 23181256704.0, 21101017088.0, 18971707392.0, 16810894336.0, 14666694656.0, 12539038720.0, 10451331072.0, 8450461696.0, 6595625472.0, 4922794496.0, 3464461824.0, 2260467712.0, 1320335744.0, 656024448.0, 247737840.0, 49308152.0, 144166.421875, 32265708.0, 86928720.0, 125710256.0, 134320688.0, 116520960.0, 84649384.0, 51155476.0], 'val_mae': [173829.546875, 168466.9375, 162998.703125, 157583.625, 152165.640625, 146379.15625, 140339.34375, 133890.078125, 126950.5625, 119497.5703125, 111612.171875, 103190.6953125, 94197.046875, 84689.8515625, 74807.3828125, 64611.90625, 54183.3984375, 43743.06640625, 33401.45703125, 23506.45703125, 14395.1201171875, 6347.296875, 346.367431640625, 5357.94775390625, 8723.05859375, 10466.501953125, 10815.044921875, 10080.9208984375, 8609.2509765625, 6717.7216796875]}\n"
     ]
    },
    {
     "data": {
      "image/png": "[encoded data removed]",
      "text/plain": [
       "<Figure size 432x288 with 1 Axes>"
      ]
     },
     "metadata": {
      "needs_background": "light"
     },
     "output_type": "display_data"
    }
   ],
   "source": [
    "EPOCHS = 30\n",
    "\n",
    "model = build_model()\n",
    "\n",
    "history = model.fit(partial_train_data,\n",
    "                    partial_train_labels,\n",
    "                    epochs=EPOCHS,\n",
    "                    batch_size=512,\n",
    "                    validation_data=(val_data, val_labels),\n",
    "                    verbose=1,\n",
    "                    )\n",
    "\n",
    "history_dict = history.history\n",
    "print(history_dict)\n",
    "\n",
    "acc = history_dict['mae']\n",
    "val_acc = history_dict['val_mae']\n",
    "\n",
    "epochs = range(1, len(acc) + 1)\n",
    "\n",
    "plt.plot(epochs, acc, 'bo', label='Training acc')\n",
    "plt.plot(epochs, val_acc, 'b', label='Validation acc')\n",
    "plt.title('Training and validation accuracy')\n",
    "plt.xlabel('Epochs')\n",
    "plt.ylabel('Accuracy')\n",
    "plt.legend()\n",
    "\n",
    "plt.show()"
   ]
  },
  {
   "cell_type": "code",
   "execution_count": 11,
   "id": "968b3911",
   "metadata": {
    "execution": {
     "iopub.execute_input": "2022-07-12T22:34:20.294396Z",
     "iopub.status.busy": "2022-07-12T22:34:20.293549Z",
     "iopub.status.idle": "2022-07-12T22:34:20.301284Z",
     "shell.execute_reply": "2022-07-12T22:34:20.300003Z"
    },
    "papermill": {
     "duration": 0.020382,
     "end_time": "2022-07-12T22:34:20.303585",
     "exception": false,
     "start_time": "2022-07-12T22:34:20.283203",
     "status": "completed"
    },
    "tags": []
   },
   "outputs": [
    {
     "name": "stdout",
     "output_type": "stream",
     "text": [
      "[  0.          15.99370818 -21.32494424   3.55415737]\n"
     ]
    }
   ],
   "source": [
    "print(house_data[\"PoolQC\"].unique())"
   ]
  }
 ],
 "metadata": {
  "kernelspec": {
   "display_name": "Python 3",
   "language": "python",
   "name": "python3"
  },
  "language_info": {
   "codemirror_mode": {
    "name": "ipython",
    "version": 3
   },
   "file_extension": ".py",
   "mimetype": "text/x-python",
   "name": "python",
   "nbconvert_exporter": "python",
   "pygments_lexer": "ipython3",
   "version": "3.7.12"
  },
  "papermill": {
   "default_parameters": {},
   "duration": 26.543061,
   "end_time": "2022-07-12T22:34:23.099404",
   "environment_variables": {},
   "exception": null,
   "input_path": "__notebook__.ipynb",
   "output_path": "__notebook__.ipynb",
   "parameters": {},
   "start_time": "2022-07-12T22:33:56.556343",
   "version": "2.3.4"
  }
 },
 "nbformat": 4,
 "nbformat_minor": 5
}
